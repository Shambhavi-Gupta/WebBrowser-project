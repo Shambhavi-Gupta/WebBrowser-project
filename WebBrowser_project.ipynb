{
  "nbformat": 4,
  "nbformat_minor": 0,
  "metadata": {
    "colab": {
      "name": "WebBrowser-project.ipynb",
      "provenance": [],
      "authorship_tag": "ABX9TyP8As5fYprXER8fujdwj1Eb",
      "include_colab_link": true
    },
    "kernelspec": {
      "name": "python3",
      "display_name": "Python 3"
    },
    "language_info": {
      "name": "python"
    }
  },
  "cells": [
    {
      "cell_type": "markdown",
      "metadata": {
        "id": "view-in-github",
        "colab_type": "text"
      },
      "source": [
        "<a href=\"https://colab.research.google.com/github/Shambhavi-Gupta/WebBrowser-project/blob/main/WebBrowser_project.ipynb\" target=\"_parent\"><img src=\"https://colab.research.google.com/assets/colab-badge.svg\" alt=\"Open In Colab\"/></a>"
      ]
    },
    {
      "cell_type": "code",
      "metadata": {
        "id": "aTHIDSa9EwQG"
      },
      "source": [
        "from PyQt5.QtWidgets import *\n",
        "from PyQt5.QtWebEngineWidgets import *\n",
        "\n",
        "\n",
        "class Window(QMainWindow):\n",
        "    def __init__(self):\n",
        "        super(Window, self).__init__()\n",
        "        self.browser = QWebEngineView()\n",
        "        self.browser.setUrl(QUrl('http://google.com'))\n",
        "        self.setCentralWidget(self.browser)\n",
        "        self.showMaximized()\n",
        "\n",
        "        # navbar\n",
        "        navigation_bar = QToolBar()\n",
        "        self.addToolBar(navigation_bar)\n",
        "\n",
        "        back_button = QAction('Back', self)\n",
        "        back_button.triggered.connect(self.browser.back)\n",
        "        navigation_bar.addAction(back_button)\n",
        "\n",
        "        forward_button = QAction('Forward', self)\n",
        "        forward_button.triggered.connect(self.browser.forward)\n",
        "        navigation_bar.addAction(forward_button)\n",
        "\n",
        "        reload_button = QAction('Reload', self)\n",
        "        reload_button.triggered.connect(self.browser.reload)\n",
        "        navigation_bar.addAction(reload_button)\n",
        "\n",
        "        home_button = QAction('Home', self)\n",
        "        home_button.triggered.connect(self.navigate_home)\n",
        "        navigation_bar.addAction(home_button)\n",
        "\n",
        "        self.url_bar = QLineEdit()\n",
        "        self.url_bar.returnPressed.connect(self.navigate_to_url)\n",
        "        navigation_bar.addWidget(self.url_bar)\n",
        "\n",
        "        self.browser.urlChanged.connect(self.update_url)\n",
        "\n",
        "    def navigate_home(self):\n",
        "        self.browser.setUrl(QUrl('http://google.com'))\n",
        "\n",
        "    def navigate_to_url(self):\n",
        "        url = self.url_bar.text()\n",
        "        self.browser.setUrl(QUrl(url))\n",
        "\n",
        "    def update_url(self, q):\n",
        "        self.url_bar.setText(q.toString())\n",
        "\n",
        "\n",
        "app = QApplication(sys.argv)\n",
        "QApplication.setApplicationName('New world')\n",
        "main = Window()\n",
        "app.exec_()"
      ],
      "execution_count": null,
      "outputs": []
    }
  ]
}